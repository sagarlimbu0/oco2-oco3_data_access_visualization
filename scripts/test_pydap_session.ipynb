{
 "cells": [
  {
   "cell_type": "markdown",
   "id": "591dc35f",
   "metadata": {},
   "source": [
    "## OBJV:\n",
    "- test the session for pydap and retrieve multiple files from openDAP"
   ]
  },
  {
   "cell_type": "code",
   "execution_count": 30,
   "id": "8eeab811",
   "metadata": {},
   "outputs": [],
   "source": [
    "## libraries for data access and pre-processing\n",
    "## preprocessing: retireve data from netCDF and convert to pandas columns\n",
    "import netCDF4 # packages to open 'netcdf' file\n",
    "import numpy as np # numpy and pandas packages to pre-process the dataset\n",
    "import pandas as pd\n",
    "\n",
    "# for visualization \n",
    "import matplotlib.pyplot as plt # to create plots and graphs\n",
    "from mpl_toolkits.basemap import Basemap # to create geo-spatial map, requires dependencies installation\n",
    "import plotly.express as px\n",
    "import matplotlib.patches as mpatches\n",
    "import matplotlib as mpl\n",
    "import matplotlib.animation as animation\n",
    "from matplotlib.collections import PatchCollection\n",
    "import time\n",
    "import matplotlib\n",
    "\n",
    "# to load webcontent and retrieve data from link\n",
    "from IPython.display import display, HTML\n",
    "from IPython import display\n",
    "from datetime import datetime"
   ]
  },
  {
   "cell_type": "code",
   "execution_count": 31,
   "id": "cc80ab22",
   "metadata": {},
   "outputs": [],
   "source": [
    "# WEB SCRAP the contents\n",
    "import re\n",
    "# to grab data from entire year, month\n",
    "from bs4 import BeautifulSoup # "
   ]
  },
  {
   "cell_type": "code",
   "execution_count": 32,
   "id": "44d5fe93",
   "metadata": {},
   "outputs": [],
   "source": [
    "# Data ACCESS from OPENDAD source\n",
    "## Libraries\n",
    "from urllib import request, parse\n",
    "import getpass\n",
    "import netrc\n",
    "import os\n",
    "import requests\n",
    "import matplotlib.image as mpimg\n",
    "import os\n",
    "import time\n",
    "from netCDF4 import Dataset\n",
    "\n",
    "# pydap library to open session\n",
    "from pydap import client\n",
    "from pydap.cas.urs import setup_session\n",
    "from pydap.client import open_url\n",
    "\n",
    "import json"
   ]
  },
  {
   "cell_type": "code",
   "execution_count": 33,
   "id": "c5a92a1f",
   "metadata": {},
   "outputs": [],
   "source": [
    "def get_session(url, file_name):\n",
    "    \"\"\"\n",
    "    Creating a session with url and filename in openDap for data retrieval\n",
    "    https://oco2.gesdisc.eosdis.nasa.gov/opendap/\n",
    "    \"\"\"\n",
    "    try:\n",
    "        login_credentials= 'uat.urs.earthdata.nasa.gov'\n",
    "        username, _, password = netrc.netrc().authenticators(login_credentials)\n",
    "    except (FileNotFoundError, TypeError):\n",
    "        # FileNotFound = There's no .netrc file\n",
    "        # TypeError = The endpoint isn't in the netrc file, causing the above to try unpacking None\n",
    "        print('\\n*******************************************\\n')\n",
    "        print('Please provide your Earthdata Login credentials to allow data access\\n')\n",
    "        print('Your credentials will only be passed to %s and will not be exposed in Jupyter' % (url))\n",
    "        print('\\n')\n",
    "        username = input('Username: ')\n",
    "        password = getpass.getpass()\n",
    "        print('\\n*******************************************\\n')\n",
    "        \n",
    "    # pydap session\n",
    "    session = setup_session(username, password, check_url= url + file_name)\n",
    "    \n",
    "    # using the session to get access the data\n",
    "    return session"
   ]
  },
  {
   "cell_type": "markdown",
   "id": "f49e06a5",
   "metadata": {},
   "source": [
    "## NOTE:\n",
    "1. First, retrieve the contents from the specified year, version of files\n",
    "2. Get the first file from the list\n",
    "\n",
    "### Data Source:\n",
    "- main_url='https://oco2.gesdisc.eosdis.nasa.gov/opendap'\n",
    "\n",
    "#### OCO content\n",
    "- `OCO2_L2_Lite_FP`\n",
    "- `OCO3_L2_Lite_FP`"
   ]
  },
  {
   "cell_type": "markdown",
   "id": "e64ac76a",
   "metadata": {},
   "source": [
    "### OCO3, openDAP source\n",
    "- Example;\n",
    "- https://oco2.gesdisc.eosdis.nasa.gov/opendap\n",
    "- /OCO3_L2_Lite_FP.10.4r\n",
    "- /2020\n",
    "- /oco3_LtCO2_200106_B10400Br_220317235330s.nc4.html"
   ]
  },
  {
   "cell_type": "code",
   "execution_count": 34,
   "id": "29ac000a",
   "metadata": {},
   "outputs": [
    {
     "name": "stdout",
     "output_type": "stream",
     "text": [
      "OCO3 -> 10 vr.\n",
      "\n",
      "Enter the Year: 2021\n",
      "Enter the Month: 08\n",
      "Enter the version: 10\n",
      "Wall time: 15 s\n"
     ]
    }
   ],
   "source": [
    "%%time\n",
    "print(\"OCO3 -> 10 vr.\\n\")\n",
    "## INPUT for specified year, version of file\n",
    "year= input(\"Enter the Year: \")\n",
    "month= input(\"Enter the Month: \")\n",
    "ver_= input(\"Enter the version: \")\n",
    "\n",
    "## Select OCO2 content\n",
    "#lite_file= '/OCO2_L2_Lite_FP.'+ str(ver_)+ 'r' +'/'+ year\n",
    "\n",
    "## OCO3\n",
    "lite_file= '/OCO3_L2_Lite_FP.'+ str(ver_)+ '.4r' +'/'+ year \n",
    "\n",
    "########################################################################\n",
    "# GET THE files from OpenDap source. Open the netcdf file and store in dataframe\n",
    "# Beautiful soup to retrieve all data for the MONTH\n",
    "# EXAMPLE: in this test, we will use SINGLE file of the month\n",
    "########################################################################\n",
    "main_url='https://oco2.gesdisc.eosdis.nasa.gov/opendap'\n",
    "content= '/contents.html'\n",
    "\n",
    "s= requests.get(main_url + lite_file + content)\n",
    "\n",
    "# Scrap the content by specified URL\n",
    "soup= BeautifulSoup(s.content, 'html.parser')\n",
    "\n",
    "list_files=[]\n",
    "# html_links= soup.select('a[href$=\".nc4.html\"]')\n",
    "\n",
    "html_links= soup.select('a[href$=\".nc4.html\"]')\n",
    "\n",
    "for link in html_links:\n",
    "    list_files.append(link['href'])\n",
    "\n",
    "## pre-process the filenames; strings, CLEAN the files\n",
    "# removing last strings '.html' to download the files from PYDAP library to match file names\n",
    "files_oco2= [f[:-5] for f in list_files]\n",
    "\n",
    "# total_files= ['opendap'+lite_file+'/'+ f for f in files_oco2[:3]]\n",
    "total_files= [lite_file+'/'+ f for f in files_oco2]\n",
    "\n",
    "## get alternate row files; duplicate ROWS on html LINKS\n",
    "total_files= total_files[::2]"
   ]
  },
  {
   "cell_type": "markdown",
   "id": "5ce6a524",
   "metadata": {},
   "source": [
    "# GET session TOKEN from the request\n",
    "- using the same `session` token to request multiple files"
   ]
  },
  {
   "cell_type": "code",
   "execution_count": 36,
   "id": "6b654da4",
   "metadata": {},
   "outputs": [],
   "source": [
    "url=main_url"
   ]
  },
  {
   "cell_type": "code",
   "execution_count": 37,
   "id": "b510d03f",
   "metadata": {},
   "outputs": [
    {
     "name": "stdout",
     "output_type": "stream",
     "text": [
      "\n",
      "*******************************************\n",
      "\n",
      "Please provide your Earthdata Login credentials to allow data access\n",
      "\n",
      "Your credentials will only be passed to https://oco2.gesdisc.eosdis.nasa.gov/opendap and will not be exposed in Jupyter\n",
      "\n",
      "\n",
      "Username: sagarlimbu\n",
      "········\n",
      "\n",
      "*******************************************\n",
      "\n"
     ]
    }
   ],
   "source": [
    "session= get_session(url, total_files[0])"
   ]
  },
  {
   "cell_type": "markdown",
   "id": "5cdc8296",
   "metadata": {},
   "source": []
  },
  {
   "cell_type": "code",
   "execution_count": 38,
   "id": "9a1c4954",
   "metadata": {},
   "outputs": [
    {
     "data": {
      "text/plain": [
       "338"
      ]
     },
     "execution_count": 38,
     "metadata": {},
     "output_type": "execute_result"
    }
   ],
   "source": [
    "len(total_files)"
   ]
  },
  {
   "cell_type": "markdown",
   "id": "c0597a28",
   "metadata": {},
   "source": [
    "## Get files for SPECIFIED months only\n",
    "- '/OCO3_L2_Lite_FP.10.4r/2020/oco3_LtCO2_20'\n",
    "- Filter the files by the above filenames to get specific month files"
   ]
  },
  {
   "cell_type": "code",
   "execution_count": 39,
   "id": "71bdff70",
   "metadata": {},
   "outputs": [
    {
     "name": "stdout",
     "output_type": "stream",
     "text": [
      "Wall time: 0 ns\n"
     ]
    }
   ],
   "source": [
    "%%time\n",
    "total_= [f for f in total_files if f.startswith(total_files[0][:41]+month) ]\n",
    "#total_= total_files"
   ]
  },
  {
   "cell_type": "code",
   "execution_count": 40,
   "id": "0ef85e1d",
   "metadata": {},
   "outputs": [
    {
     "data": {
      "text/plain": [
       "25"
      ]
     },
     "execution_count": 40,
     "metadata": {},
     "output_type": "execute_result"
    }
   ],
   "source": [
    "len(total_)"
   ]
  },
  {
   "cell_type": "markdown",
   "id": "94cfc530",
   "metadata": {},
   "source": [
    "### Following function;\n",
    "- Performs iterative process to access and retrieve multiple files\n",
    "- Using the same SESSION token generated from previous request to `OPENDAP` website\n",
    "\n",
    "### Data Access to Multiple files\n",
    "- takes in pydap data and appends all the variables together"
   ]
  },
  {
   "cell_type": "code",
   "execution_count": null,
   "id": "125a4cce",
   "metadata": {
    "scrolled": true
   },
   "outputs": [
    {
     "name": "stdout",
     "output_type": "stream",
     "text": [
      "<DatasetType with children 'xco2_apriori', 'file_index', 'xco2_qf_simple_bitflag', 'pressure_levels', 'xco2', 'time', 'pressure_weight', 'Preprocessors_h2o_ratio', 'Preprocessors_xco2_weak_idp', 'Preprocessors_max_declocking_o2a', 'Preprocessors_xco2_strong_idp', 'Preprocessors_dp_abp', 'Preprocessors_co2_ratio', 'Preprocessors_csstd_ratio_wco2', 'solar_zenith_angle', 'longitude', 'xco2_qf_bitflag', 'latitude', 'sensor_zenith_angle', 'Meteorology_psurf_apriori_o2a', 'Meteorology_psurf_apriori_wco2', 'Meteorology_psurf_apriori_sco2', 'Meteorology_windspeed_u_met', 'Meteorology_windspeed_v_met', 'xco2_quality_flag', 'xco2_averaging_kernel', 'date', 'Retrieval_dp_o2a', 'Retrieval_dust_height', 'Retrieval_aod_water', 'Retrieval_s32', 'Retrieval_chi2_sco2', 'Retrieval_aod_dust', 'Retrieval_albedo_slope_wco2', 'Retrieval_aod_bc', 'Retrieval_aod_strataer', 'Retrieval_eof2_2_rel', 'Retrieval_aod_seasalt', 'Retrieval_rms_rel_o2a', 'Retrieval_windspeed_apriori', 'Retrieval_albedo_slope_sco2', 'Retrieval_tcwv_apriori', 'Retrieval_co2_grad_del', 'Retrieval_fs', 'Retrieval_psurf_apriori', 'Retrieval_SigmaB', 'Retrieval_fs_rel', 'Retrieval_albedo_wco2', 'Retrieval_dof_co2', 'Retrieval_tcwv', 'Retrieval_tcwv_uncertainty', 'Retrieval_albedo_o2a', 'Retrieval_deltaT', 'Retrieval_h2o_scale', 'Retrieval_dp_sco2', 'Retrieval_dp', 'Retrieval_windspeed', 'Retrieval_dpfrac', 'Retrieval_t700', 'Retrieval_chi2_o2a', 'Retrieval_aod_ice', 'Retrieval_iterations', 'Retrieval_xco2_zlo_bias', 'Retrieval_ice_height', 'Retrieval_rms_rel_wco2', 'Retrieval_aod_sulfate', 'Retrieval_dws', 'Retrieval_albedo_slope_o2a', 'Retrieval_rms_rel_sco2', 'Retrieval_diverging_steps', 'Retrieval_albedo_sco2', 'Retrieval_aod_fine', 'Retrieval_chi2_wco2', 'Retrieval_surface_type', 'Retrieval_s31', 'Retrieval_psurf', 'Retrieval_aod_total', 'Retrieval_aod_oc', 'Retrieval_xco2_raw', 'Sounding_snr_sco2', 'Sounding_operation_mode', 'Sounding_snr_wco2', 'Sounding_glint_angle', 'Sounding_altitude_stddev', 'Sounding_pma_elevation_angle', 'Sounding_sensor_azimuth_angle', 'Sounding_airmass', 'Sounding_land_water_indicator', 'Sounding_polarization_angle', 'Sounding_snr_o2a', 'Sounding_solar_azimuth_angle', 'Sounding_target_name', 'Sounding_pma_azimuth_angle', 'Sounding_target_id', 'Sounding_altitude', 'Sounding_footprint', 'Sounding_land_fraction', 'Sounding_zlo_wco2', 'Sounding_att_data_source', 'Sounding_orbit', 'xco2_uncertainty', 'co2_profile_apriori', 'vertices', 'bands', 'epoch_dimension', 'levels', 'source_files', 'vertex_latitude', 'vertex_longitude'>\n",
      "***********************/n\n",
      "<DatasetType with children 'xco2_apriori', 'file_index', 'xco2_qf_simple_bitflag', 'pressure_levels', 'xco2', 'time', 'pressure_weight', 'Preprocessors_h2o_ratio', 'Preprocessors_xco2_weak_idp', 'Preprocessors_max_declocking_o2a', 'Preprocessors_xco2_strong_idp', 'Preprocessors_co2_ratio', 'Preprocessors_csstd_ratio_wco2', 'Preprocessors_dp_abp', 'solar_zenith_angle', 'longitude', 'xco2_qf_bitflag', 'latitude', 'sensor_zenith_angle', 'Meteorology_psurf_apriori_o2a', 'Meteorology_psurf_apriori_wco2', 'Meteorology_psurf_apriori_sco2', 'Meteorology_windspeed_u_met', 'Meteorology_windspeed_v_met', 'xco2_quality_flag', 'xco2_averaging_kernel', 'date', 'Retrieval_dp_o2a', 'Retrieval_dust_height', 'Retrieval_aod_water', 'Retrieval_s32', 'Retrieval_chi2_sco2', 'Retrieval_aod_dust', 'Retrieval_albedo_slope_wco2', 'Retrieval_aod_bc', 'Retrieval_aod_strataer', 'Retrieval_eof2_2_rel', 'Retrieval_aod_seasalt', 'Retrieval_rms_rel_o2a', 'Retrieval_windspeed_apriori', 'Retrieval_albedo_slope_sco2', 'Retrieval_tcwv_apriori', 'Retrieval_co2_grad_del', 'Retrieval_fs', 'Retrieval_psurf_apriori', 'Retrieval_SigmaB', 'Retrieval_fs_rel', 'Retrieval_albedo_wco2', 'Retrieval_dof_co2', 'Retrieval_tcwv', 'Retrieval_tcwv_uncertainty', 'Retrieval_albedo_o2a', 'Retrieval_deltaT', 'Retrieval_h2o_scale', 'Retrieval_dp_sco2', 'Retrieval_dp', 'Retrieval_windspeed', 'Retrieval_dpfrac', 'Retrieval_t700', 'Retrieval_chi2_o2a', 'Retrieval_aod_ice', 'Retrieval_iterations', 'Retrieval_xco2_zlo_bias', 'Retrieval_ice_height', 'Retrieval_rms_rel_wco2', 'Retrieval_aod_sulfate', 'Retrieval_dws', 'Retrieval_albedo_slope_o2a', 'Retrieval_rms_rel_sco2', 'Retrieval_diverging_steps', 'Retrieval_albedo_sco2', 'Retrieval_aod_fine', 'Retrieval_chi2_wco2', 'Retrieval_surface_type', 'Retrieval_s31', 'Retrieval_psurf', 'Retrieval_aod_total', 'Retrieval_aod_oc', 'Retrieval_xco2_raw', 'Sounding_snr_sco2', 'Sounding_operation_mode', 'Sounding_snr_wco2', 'Sounding_glint_angle', 'Sounding_altitude_stddev', 'Sounding_pma_elevation_angle', 'Sounding_sensor_azimuth_angle', 'Sounding_airmass', 'Sounding_land_water_indicator', 'Sounding_polarization_angle', 'Sounding_snr_o2a', 'Sounding_solar_azimuth_angle', 'Sounding_target_name', 'Sounding_pma_azimuth_angle', 'Sounding_target_id', 'Sounding_altitude', 'Sounding_footprint', 'Sounding_land_fraction', 'Sounding_zlo_wco2', 'Sounding_att_data_source', 'Sounding_orbit', 'xco2_uncertainty', 'co2_profile_apriori', 'vertices', 'bands', 'epoch_dimension', 'levels', 'source_files', 'vertex_latitude', 'vertex_longitude'>\n",
      "***********************/n\n",
      "<DatasetType with children 'xco2_apriori', 'file_index', 'xco2_qf_simple_bitflag', 'pressure_levels', 'xco2', 'time', 'pressure_weight', 'Preprocessors_h2o_ratio', 'Preprocessors_xco2_weak_idp', 'Preprocessors_max_declocking_o2a', 'Preprocessors_xco2_strong_idp', 'Preprocessors_co2_ratio', 'Preprocessors_csstd_ratio_wco2', 'Preprocessors_dp_abp', 'solar_zenith_angle', 'longitude', 'xco2_qf_bitflag', 'latitude', 'sensor_zenith_angle', 'Meteorology_psurf_apriori_o2a', 'Meteorology_psurf_apriori_wco2', 'Meteorology_psurf_apriori_sco2', 'Meteorology_windspeed_u_met', 'Meteorology_windspeed_v_met', 'xco2_quality_flag', 'xco2_averaging_kernel', 'date', 'Retrieval_dp_o2a', 'Retrieval_dust_height', 'Retrieval_aod_water', 'Retrieval_s32', 'Retrieval_chi2_sco2', 'Retrieval_aod_dust', 'Retrieval_albedo_slope_wco2', 'Retrieval_aod_bc', 'Retrieval_aod_strataer', 'Retrieval_eof2_2_rel', 'Retrieval_aod_seasalt', 'Retrieval_rms_rel_o2a', 'Retrieval_windspeed_apriori', 'Retrieval_albedo_slope_sco2', 'Retrieval_tcwv_apriori', 'Retrieval_co2_grad_del', 'Retrieval_fs', 'Retrieval_psurf_apriori', 'Retrieval_SigmaB', 'Retrieval_fs_rel', 'Retrieval_albedo_wco2', 'Retrieval_dof_co2', 'Retrieval_tcwv', 'Retrieval_tcwv_uncertainty', 'Retrieval_albedo_o2a', 'Retrieval_deltaT', 'Retrieval_h2o_scale', 'Retrieval_dp_sco2', 'Retrieval_dp', 'Retrieval_windspeed', 'Retrieval_dpfrac', 'Retrieval_t700', 'Retrieval_chi2_o2a', 'Retrieval_aod_ice', 'Retrieval_iterations', 'Retrieval_xco2_zlo_bias', 'Retrieval_ice_height', 'Retrieval_rms_rel_wco2', 'Retrieval_aod_sulfate', 'Retrieval_dws', 'Retrieval_albedo_slope_o2a', 'Retrieval_rms_rel_sco2', 'Retrieval_diverging_steps', 'Retrieval_albedo_sco2', 'Retrieval_aod_fine', 'Retrieval_chi2_wco2', 'Retrieval_surface_type', 'Retrieval_s31', 'Retrieval_psurf', 'Retrieval_aod_total', 'Retrieval_aod_oc', 'Retrieval_xco2_raw', 'Sounding_snr_sco2', 'Sounding_operation_mode', 'Sounding_snr_wco2', 'Sounding_glint_angle', 'Sounding_altitude_stddev', 'Sounding_pma_elevation_angle', 'Sounding_sensor_azimuth_angle', 'Sounding_airmass', 'Sounding_land_water_indicator', 'Sounding_polarization_angle', 'Sounding_snr_o2a', 'Sounding_solar_azimuth_angle', 'Sounding_target_name', 'Sounding_pma_azimuth_angle', 'Sounding_target_id', 'Sounding_altitude', 'Sounding_footprint', 'Sounding_land_fraction', 'Sounding_zlo_wco2', 'Sounding_att_data_source', 'Sounding_orbit', 'xco2_uncertainty', 'co2_profile_apriori', 'vertices', 'bands', 'epoch_dimension', 'levels', 'source_files', 'vertex_latitude', 'vertex_longitude'>\n",
      "***********************/n\n",
      "<DatasetType with children 'xco2_apriori', 'file_index', 'xco2_qf_simple_bitflag', 'pressure_levels', 'xco2', 'time', 'pressure_weight', 'Preprocessors_h2o_ratio', 'Preprocessors_xco2_weak_idp', 'Preprocessors_max_declocking_o2a', 'Preprocessors_xco2_strong_idp', 'Preprocessors_co2_ratio', 'Preprocessors_csstd_ratio_wco2', 'Preprocessors_dp_abp', 'solar_zenith_angle', 'longitude', 'xco2_qf_bitflag', 'latitude', 'sensor_zenith_angle', 'Meteorology_psurf_apriori_o2a', 'Meteorology_psurf_apriori_wco2', 'Meteorology_psurf_apriori_sco2', 'Meteorology_windspeed_u_met', 'Meteorology_windspeed_v_met', 'xco2_quality_flag', 'xco2_averaging_kernel', 'date', 'Retrieval_dp_o2a', 'Retrieval_dust_height', 'Retrieval_aod_water', 'Retrieval_s32', 'Retrieval_chi2_sco2', 'Retrieval_aod_dust', 'Retrieval_albedo_slope_wco2', 'Retrieval_aod_bc', 'Retrieval_aod_strataer', 'Retrieval_eof2_2_rel', 'Retrieval_aod_seasalt', 'Retrieval_rms_rel_o2a', 'Retrieval_windspeed_apriori', 'Retrieval_albedo_slope_sco2', 'Retrieval_tcwv_apriori', 'Retrieval_co2_grad_del', 'Retrieval_fs', 'Retrieval_psurf_apriori', 'Retrieval_SigmaB', 'Retrieval_fs_rel', 'Retrieval_albedo_wco2', 'Retrieval_dof_co2', 'Retrieval_tcwv', 'Retrieval_tcwv_uncertainty', 'Retrieval_albedo_o2a', 'Retrieval_deltaT', 'Retrieval_h2o_scale', 'Retrieval_dp_sco2', 'Retrieval_dp', 'Retrieval_windspeed', 'Retrieval_dpfrac', 'Retrieval_t700', 'Retrieval_chi2_o2a', 'Retrieval_aod_ice', 'Retrieval_iterations', 'Retrieval_xco2_zlo_bias', 'Retrieval_ice_height', 'Retrieval_rms_rel_wco2', 'Retrieval_aod_sulfate', 'Retrieval_dws', 'Retrieval_albedo_slope_o2a', 'Retrieval_rms_rel_sco2', 'Retrieval_diverging_steps', 'Retrieval_albedo_sco2', 'Retrieval_aod_fine', 'Retrieval_chi2_wco2', 'Retrieval_surface_type', 'Retrieval_s31', 'Retrieval_psurf', 'Retrieval_aod_total', 'Retrieval_aod_oc', 'Retrieval_xco2_raw', 'Sounding_snr_sco2', 'Sounding_operation_mode', 'Sounding_snr_wco2', 'Sounding_glint_angle', 'Sounding_altitude_stddev', 'Sounding_pma_elevation_angle', 'Sounding_sensor_azimuth_angle', 'Sounding_airmass', 'Sounding_land_water_indicator', 'Sounding_polarization_angle', 'Sounding_snr_o2a', 'Sounding_solar_azimuth_angle', 'Sounding_target_name', 'Sounding_pma_azimuth_angle', 'Sounding_target_id', 'Sounding_altitude', 'Sounding_footprint', 'Sounding_land_fraction', 'Sounding_zlo_wco2', 'Sounding_att_data_source', 'Sounding_orbit', 'xco2_uncertainty', 'co2_profile_apriori', 'vertices', 'bands', 'epoch_dimension', 'levels', 'source_files', 'vertex_latitude', 'vertex_longitude'>\n"
     ]
    },
    {
     "name": "stdout",
     "output_type": "stream",
     "text": [
      "***********************/n\n",
      "<DatasetType with children 'xco2_apriori', 'file_index', 'xco2_qf_simple_bitflag', 'pressure_levels', 'xco2', 'time', 'pressure_weight', 'Preprocessors_h2o_ratio', 'Preprocessors_xco2_weak_idp', 'Preprocessors_max_declocking_o2a', 'Preprocessors_xco2_strong_idp', 'Preprocessors_co2_ratio', 'Preprocessors_csstd_ratio_wco2', 'Preprocessors_dp_abp', 'solar_zenith_angle', 'longitude', 'xco2_qf_bitflag', 'latitude', 'sensor_zenith_angle', 'Meteorology_psurf_apriori_o2a', 'Meteorology_psurf_apriori_wco2', 'Meteorology_psurf_apriori_sco2', 'Meteorology_windspeed_u_met', 'Meteorology_windspeed_v_met', 'xco2_quality_flag', 'xco2_averaging_kernel', 'date', 'Retrieval_dp_o2a', 'Retrieval_dust_height', 'Retrieval_aod_water', 'Retrieval_s32', 'Retrieval_chi2_sco2', 'Retrieval_aod_dust', 'Retrieval_albedo_slope_wco2', 'Retrieval_aod_bc', 'Retrieval_aod_strataer', 'Retrieval_eof2_2_rel', 'Retrieval_aod_seasalt', 'Retrieval_rms_rel_o2a', 'Retrieval_windspeed_apriori', 'Retrieval_albedo_slope_sco2', 'Retrieval_tcwv_apriori', 'Retrieval_co2_grad_del', 'Retrieval_fs', 'Retrieval_psurf_apriori', 'Retrieval_SigmaB', 'Retrieval_fs_rel', 'Retrieval_albedo_wco2', 'Retrieval_dof_co2', 'Retrieval_tcwv', 'Retrieval_tcwv_uncertainty', 'Retrieval_albedo_o2a', 'Retrieval_deltaT', 'Retrieval_h2o_scale', 'Retrieval_dp_sco2', 'Retrieval_dp', 'Retrieval_windspeed', 'Retrieval_dpfrac', 'Retrieval_t700', 'Retrieval_chi2_o2a', 'Retrieval_aod_ice', 'Retrieval_iterations', 'Retrieval_xco2_zlo_bias', 'Retrieval_ice_height', 'Retrieval_rms_rel_wco2', 'Retrieval_aod_sulfate', 'Retrieval_dws', 'Retrieval_albedo_slope_o2a', 'Retrieval_rms_rel_sco2', 'Retrieval_diverging_steps', 'Retrieval_albedo_sco2', 'Retrieval_aod_fine', 'Retrieval_chi2_wco2', 'Retrieval_surface_type', 'Retrieval_s31', 'Retrieval_psurf', 'Retrieval_aod_total', 'Retrieval_aod_oc', 'Retrieval_xco2_raw', 'Sounding_snr_sco2', 'Sounding_operation_mode', 'Sounding_snr_wco2', 'Sounding_glint_angle', 'Sounding_altitude_stddev', 'Sounding_pma_elevation_angle', 'Sounding_sensor_azimuth_angle', 'Sounding_airmass', 'Sounding_land_water_indicator', 'Sounding_polarization_angle', 'Sounding_snr_o2a', 'Sounding_solar_azimuth_angle', 'Sounding_target_name', 'Sounding_pma_azimuth_angle', 'Sounding_target_id', 'Sounding_altitude', 'Sounding_footprint', 'Sounding_land_fraction', 'Sounding_zlo_wco2', 'Sounding_att_data_source', 'Sounding_orbit', 'xco2_uncertainty', 'co2_profile_apriori', 'vertices', 'bands', 'epoch_dimension', 'levels', 'source_files', 'vertex_latitude', 'vertex_longitude'>\n"
     ]
    }
   ],
   "source": [
    "%%time\n",
    "# session.post\n",
    "\n",
    "## list of pydap variables\n",
    "xco2=[]\n",
    "long_vertices=[]\n",
    "lat_vertices=[]\n",
    "sounding_id=[]\n",
    "qual_flag=[]\n",
    "\n",
    "if session:\n",
    "#     print(\"alive\")\n",
    "    for j in range(0, len(total_)):\n",
    "        pydap_df= open_url(main_url + total_[j], session=session)\n",
    "        print(pydap_df)\n",
    "        \n",
    "        #################################################\n",
    "        # collect the data\n",
    "        xco2.append(np.array(pydap_df[\"xco2\"][:]))\n",
    "        long_vertices.append(pydap_df[\"vertex_longitude\"][:])\n",
    "        lat_vertices.append(pydap_df[\"vertex_latitude\"][:])\n",
    "        qual_flag.append(pydap_df[\"xco2_quality_flag\"][:])\n",
    "#        sounding_id.append(pydap_df[\"date\"])        \n",
    "\n",
    "        print('***********************/n')\n",
    "else:\n",
    "    print(\"request new ssion\")"
   ]
  },
  {
   "cell_type": "markdown",
   "id": "50fd3059",
   "metadata": {},
   "source": [
    "## Pre-process the data\n",
    "1. Pandas dataframe: filter the data by quality-flag-> 0\n",
    "2. Dstack the vertices from CORNER points\n",
    "3. Create Polygon PATCHES from matplotlib"
   ]
  },
  {
   "cell_type": "code",
   "execution_count": null,
   "id": "ae168aa6",
   "metadata": {},
   "outputs": [],
   "source": [
    "%%time\n",
    "##################################################\n",
    "# 1. Create pandas dataframe to filter the values\n",
    "df_oco3= pd.DataFrame()\n",
    "df_oco3[\"Xco2\"]= np.array(np.concatenate(xco2)).ravel() \n",
    "df_oco3[\"Longitude_vertices\"]= list(np.array(np.concatenate(long_vertices)))\n",
    "df_oco3[\"Latitude_vertices\"]= list(np.array(np.concatenate(lat_vertices)))\n",
    "df_oco3[\"quality_flag\"]= np.array(np.concatenate(qual_flag)).ravel()\n",
    "\n",
    "##################################################\n",
    "# Filter the DATA by quality flag-> 0\n",
    "df_oco3= df_oco3[df_oco3[\"quality_flag\"]== 0]\n",
    "df_oco3=df_oco3.reset_index()\n",
    "df_oco3= df_oco3.drop(columns=[\"index\"])\n",
    "\n",
    "#################################################\n",
    "# 2. DSTACK the vertices of corner points together\n",
    "flat_vertices=[]\n",
    "for j in range(0, len(df_test)):\n",
    "    flat_vertices.append(np.dstack([df_oco3[\"Longitude_vertices\"].iloc[j], df_oco3[\"Latitude_vertices\"].iloc[j] ]))\n",
    "\n",
    "##################################################\n",
    "# 3. GET patches from the vertices\n",
    "## unpack the values from the list\n",
    "unpack_vertices= [elem for sublist in flat_vertices for elem in sublist]\n",
    "patches_total= [mpatches.Polygon(row) for row in unpack_vertices]\n",
    "\n",
    "##################################################\n",
    "## XCO2 values\n",
    "xco2_total= df_oco3[\"Xco2\"][:]\n",
    "\n",
    "## Garbage Collect, release memory\n",
    "del df_oco3\n",
    "gc.collect()"
   ]
  },
  {
   "cell_type": "markdown",
   "id": "cfe7d4c6",
   "metadata": {},
   "source": [
    "# PLOT with basemap using the vertices\n",
    "- NOTE: uses the entire data without any filtering on QUALITY_FLAG\n",
    "- next work on ploting data with filtering values by quality flag-> 0"
   ]
  },
  {
   "cell_type": "code",
   "execution_count": null,
   "id": "d8bf1c19",
   "metadata": {},
   "outputs": [],
   "source": [
    "%matplotlib notebook"
   ]
  },
  {
   "cell_type": "code",
   "execution_count": null,
   "id": "ecca6b8c",
   "metadata": {
    "scrolled": false
   },
   "outputs": [],
   "source": [
    "%%time\n",
    "# ## XCO2 values\n",
    "# xco2_total= xco2_list\n",
    "\n",
    "## plot to graph using basemap\n",
    "fig= plt.figure(111)\n",
    "ax= fig.add_subplot(111)\n",
    "\n",
    "## SET the min and max boundaries for XCO2\n",
    "xco2_min_= 410\n",
    "xco2_max_= 420\n",
    "\n",
    "# world map: \n",
    "# set the boundaries\n",
    "llcrnrlon, urcrnrlon, llcrnrlat, urcrnrlat= -180, 90, -90, 90 \n",
    "\n",
    "\n",
    "# ###worldmap (FULL_OUTER_MAP)\n",
    "\n",
    "m= Basemap(projection= 'cyl',\n",
    "        llcrnrlon= llcrnrlon,\n",
    "        urcrnrlon= urcrnrlon,\n",
    "        llcrnrlat= llcrnrlat,\n",
    "        urcrnrlat= urcrnrlat,   \n",
    "        resolution='l', \n",
    "        epsg= 4269\n",
    "        )\n",
    "\n",
    "## DARK theme map\n",
    "m.fillcontinents(color='#191919',lake_color='#000000') # dark grey land, black lakes\n",
    "m.drawmapboundary(fill_color='#000000') \n",
    "\n",
    "\n",
    "### ArcGIS map\n",
    "# m.arcgisimage(server='http://server.arcgisonline.com/ArcGIS', \n",
    "#               #service='World_Shaded_Relief', \n",
    "#               service='World_Imagery',\n",
    "#               xpixels=2000, ypixels=None, dpi= 2000, verbose=False)\n",
    "\n",
    "\n",
    "cmap= plt.get_cmap('viridis')\n",
    "colors= cmap(xco2_total)\n",
    "\n",
    "## normalize\n",
    "norm= matplotlib.colors.Normalize(vmin= xco2_min_,\n",
    "                                 vmax= xco2_max_)\n",
    "\n",
    "## PATCHES object passed to this function\n",
    "## patch collection and plt show\n",
    "p= PatchCollection(patches_total,\n",
    "                   cmap= matplotlib.cm.viridis, \n",
    "                   #alpha= 0.95, \n",
    "                  # linewidths= 4\n",
    "                   edgecolor='none',\n",
    "                   norm= norm\n",
    "                  )\n",
    "\n",
    "# set color range from XCO2\n",
    "#p.set_color(colors)\n",
    "p.set_array(xco2_total)\n",
    "#p.set_clim(np.min(xco2), np.max(xco2))\n",
    "\n",
    "plt.gcf().set_size_inches(10, 10)\n",
    "ax.add_collection(p)\n",
    "\n",
    "## COLOR bar\n",
    "cmap = mpl.cm.viridis\n",
    "norm = mpl.colors.Normalize(vmin=xco2_min_, vmax=xco2_max_)\n",
    "cbar= plt.colorbar(mpl.cm.ScalarMappable(norm=norm, cmap=cmap),\n",
    "                   orientation='horizontal', label='OCO2, XCO2 ppm\\nMonths: ')\n",
    "#                   + str(months_sel))\n",
    "#    plt.savefig('dark'+str(year)+'_'+str(months_sel)+\"_oco2_oco3_comb.jpg\", dpi= 3500, bbox_inches='tight', pad_inches= 2)\n",
    "plt.show();"
   ]
  },
  {
   "cell_type": "code",
   "execution_count": null,
   "id": "9beb2ba1",
   "metadata": {},
   "outputs": [],
   "source": []
  }
 ],
 "metadata": {
  "kernelspec": {
   "display_name": "Python 3 (ipykernel)",
   "language": "python",
   "name": "python3"
  },
  "language_info": {
   "codemirror_mode": {
    "name": "ipython",
    "version": 3
   },
   "file_extension": ".py",
   "mimetype": "text/x-python",
   "name": "python",
   "nbconvert_exporter": "python",
   "pygments_lexer": "ipython3",
   "version": "3.9.13"
  }
 },
 "nbformat": 4,
 "nbformat_minor": 5
}
