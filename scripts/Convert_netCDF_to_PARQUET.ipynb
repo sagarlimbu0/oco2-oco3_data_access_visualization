{
 "cells": [
  {
   "cell_type": "markdown",
   "id": "36103330",
   "metadata": {},
   "source": [
    "## Objective:\n",
    "- Import required libraries data pre-processing; numpy, pyarrow\n",
    "- Convert Entire OCO2/OCO3 netCDF files to parquet format"
   ]
  },
  {
   "cell_type": "markdown",
   "id": "b1d982df",
   "metadata": {},
   "source": [
    "#### Why Parquet format?\n",
    "Parquet is an open source file format built to handle flat columnar storage data formats. Parquet operates well with complex data in large volumes.It is known for its both performant data compression and its ability to handle a wide variety of encoding types. \n",
    "\n",
    "- Parquet deploys Google's record-shredding and assembly algorithm that can address complex data structures within data storage. Some Parquet benefits include:\n",
    "\n",
    "    * Fast queries that can fetch specific column values without reading full row data\n",
    "    * Highly efficient column-wise compression\n",
    "    * High compatibility with with OLAP\n",
    "    \n",
    "#### Benifits of using Parquet format over CSV\n",
    "- HOW IS PARQUET DIFFERENT FROM CSV?\n",
    "\n",
    "While CSV is simple and the most widely used data format (Excel, Google Sheets), there are several distinct advantages for Parquet, including:\n",
    "\n",
    "- Parquet is column oriented and CSV is row oriented. Row-oriented formats are optimized for OLTP workloads while column-oriented formats are better suited for analytical workloads.\n",
    "- Column-oriented databases such as AWS Redshift Spectrum bill by the amount data scanned per query\n",
    "\n",
    "Therefore, converting CSV to Parquet with partitioning and compression lowers overall costs and improves performance\n",
    "\n",
    "[source: Snowflake](https://www.snowflake.com/guides/what-parquet#:~:text=Parquet%20is%20an%20open%20source,wide%20variety%20of%20encoding%20types.)"
   ]
  },
  {
   "cell_type": "code",
   "execution_count": null,
   "id": "ee7cd134",
   "metadata": {},
   "outputs": [],
   "source": [
    "# !pip install pyarrow"
   ]
  },
  {
   "cell_type": "code",
   "execution_count": 1,
   "id": "544eb55a",
   "metadata": {},
   "outputs": [],
   "source": [
    "import os\n",
    "import numpy as np\n",
    "import pandas as pd\n",
    "import pyarrow as pa\n",
    "import netCDF4 as nc\n",
    "\n",
    "from pyarrow import parquet as parq\n",
    "from datetime import datetime"
   ]
  },
  {
   "cell_type": "code",
   "execution_count": null,
   "id": "6bd367bb",
   "metadata": {},
   "outputs": [],
   "source": [
    "## Example: creating a parquet file using table using the array\n",
    "arr= np.arange(1.0, 20.0)\n",
    "pa_table= pa.table({\"float_data\": arr})\n",
    "parq.write_table(pa_table, 'test_table_data.parquet')"
   ]
  },
  {
   "cell_type": "markdown",
   "id": "e1de66a1",
   "metadata": {},
   "source": [
    "### NETCDF files\n",
    "- PATH: downloaded netCDF files from the source\n",
    "- EG: # list fo FILES initially downloaded locally"
   ]
  },
  {
   "cell_type": "code",
   "execution_count": null,
   "id": "72d9403f",
   "metadata": {},
   "outputs": [],
   "source": [
    "# path_= '../../../Cluster_machine/OCO2/B_11_new_version/2020/'\n",
    "path_=\"../../../Cluster_machine/OCO3/2021/\""
   ]
  },
  {
   "cell_type": "code",
   "execution_count": null,
   "id": "e23803b1",
   "metadata": {},
   "outputs": [],
   "source": [
    "file_path_= []\n",
    "\n",
    "for root, dirs, files in os.walk(path_):\n",
    "    \n",
    "    for filename in files:\n",
    "        #print(os.path.join(root, filename))\n",
    "        \n",
    "        # Append the files into list\n",
    "        file_path_.append(os.path.join(root, filename))\n",
    "        \n",
    "file_path_[:3]"
   ]
  },
  {
   "cell_type": "code",
   "execution_count": null,
   "id": "e93e9044",
   "metadata": {},
   "outputs": [],
   "source": [
    "file_names= file_path_"
   ]
  },
  {
   "cell_type": "markdown",
   "id": "007576c9",
   "metadata": {},
   "source": [
    "## conv dateTime"
   ]
  },
  {
   "cell_type": "code",
   "execution_count": null,
   "id": "da133f36",
   "metadata": {},
   "outputs": [],
   "source": [
    "def conv_date(d):\n",
    "    return datetime.strptime(str(d), '%Y%m%d%H%M%S%f')"
   ]
  },
  {
   "cell_type": "code",
   "execution_count": null,
   "id": "8441ef3c",
   "metadata": {},
   "outputs": [],
   "source": [
    "%%time\n",
    "countFiles=0\n",
    "\n",
    "lon_list= []\n",
    "lat_list= []\n",
    "xco2_list= []\n",
    "qual_flag_list= []\n",
    "lat=[]\n",
    "lon=[]\n",
    "dateTime= []\n",
    "\n",
    "for j in file_names:\n",
    "    if j.endswith(\".nc4\"):\n",
    "        var_= nc.Dataset(j)\n",
    "        lon_list.append(np.array(var_.variables['vertex_longitude'][:]).tolist())\n",
    "        lat_list.append(np.array(var_.variables['vertex_latitude'][:]).tolist())\n",
    "        xco2_list.append(np.array(var_.variables['xco2'][:]).tolist())\n",
    "        qual_flag_list.append(np.array(var_.variables['xco2_quality_flag'][:]).tolist())\n",
    "        \n",
    "        # DateTIme formating\n",
    "        dateTime.append(np.array(var_.variables['sounding_id'][:].tolist()))\n",
    "\n",
    "        # lat and long without vert\n",
    "        lat.append(np.array(var_.variables['latitude'][:].tolist()))\n",
    "        lon.append(np.array(var_.variables['longitude'][:].tolist()))\n",
    "\n",
    "#print('\\nTotalFiles: ', countFiles)"
   ]
  },
  {
   "cell_type": "code",
   "execution_count": null,
   "id": "1e2fcaa7",
   "metadata": {},
   "outputs": [],
   "source": [
    "%%time\n",
    "lon_list_a= [element for sublist in lon_list for element in sublist]\n",
    "lat_list_a= [element for sublist in lat_list for element in sublist]\n",
    "xco2_list_a= [element for sublist in xco2_list for element in sublist]\n",
    "lon_a= [element for sublist in lon for element in sublist]\n",
    "lat_a= [element for sublist in lat for element in sublist]\n",
    "xco2_qual_flag= [ element for sublist in qual_flag_list for element in sublist]\n",
    "dateTime_list= [ element for sublist in dateTime for element in sublist]"
   ]
  },
  {
   "cell_type": "markdown",
   "id": "5f6f7aa3",
   "metadata": {},
   "source": [
    "### Transformation to parquet format\n",
    "- Creating table format"
   ]
  },
  {
   "cell_type": "code",
   "execution_count": null,
   "id": "399151a6",
   "metadata": {},
   "outputs": [],
   "source": [
    "%%time\n",
    "df_oco3= pa.table({\n",
    "    'Latitude_vertices': lat_list_a,\n",
    "    'Longitude_vertices': lon_list_a,\n",
    "    'Latitude': lat_a,\n",
    "    'Longitude': lon_a,\n",
    "    'Xco2': xco2_list_a,\n",
    "    'quality_flag': xco2_qual_flag,\n",
    "    'DateTime': dateTime_list\n",
    "})"
   ]
  },
  {
   "cell_type": "markdown",
   "id": "70749bce",
   "metadata": {},
   "source": [
    "## Table from parquet"
   ]
  },
  {
   "cell_type": "code",
   "execution_count": null,
   "id": "4d70791e",
   "metadata": {},
   "outputs": [],
   "source": [
    "# 'oco3_20222_parq.parquet'\n",
    "file_name= input(\"File Name\")"
   ]
  },
  {
   "cell_type": "code",
   "execution_count": null,
   "id": "8feaffa0",
   "metadata": {},
   "outputs": [],
   "source": [
    "%%time\n",
    "parq.write_table(df_oco3, file_name)"
   ]
  },
  {
   "cell_type": "markdown",
   "id": "a95655bb",
   "metadata": {},
   "source": [
    "# Pre-processing the original file\n",
    "- CONVERT the DATETIME -> Date and Month\n",
    "- Filter by quality flag\n",
    "    - Good Quality-> 0"
   ]
  },
  {
   "cell_type": "code",
   "execution_count": 2,
   "id": "54faca7f",
   "metadata": {},
   "outputs": [
    {
     "name": "stdout",
     "output_type": "stream",
     "text": [
      "Wall time: 18.6 s\n"
     ]
    },
    {
     "data": {
      "text/html": [
       "<div>\n",
       "<style scoped>\n",
       "    .dataframe tbody tr th:only-of-type {\n",
       "        vertical-align: middle;\n",
       "    }\n",
       "\n",
       "    .dataframe tbody tr th {\n",
       "        vertical-align: top;\n",
       "    }\n",
       "\n",
       "    .dataframe thead th {\n",
       "        text-align: right;\n",
       "    }\n",
       "</style>\n",
       "<table border=\"1\" class=\"dataframe\">\n",
       "  <thead>\n",
       "    <tr style=\"text-align: right;\">\n",
       "      <th></th>\n",
       "      <th>Latitude_vertices</th>\n",
       "      <th>Longitude_vertices</th>\n",
       "      <th>Latitude</th>\n",
       "      <th>Longitude</th>\n",
       "      <th>Xco2</th>\n",
       "      <th>quality_flag</th>\n",
       "      <th>DateTime</th>\n",
       "    </tr>\n",
       "  </thead>\n",
       "  <tbody>\n",
       "    <tr>\n",
       "      <th>0</th>\n",
       "      <td>[33.45766067504883, 33.44253921508789, 33.4476...</td>\n",
       "      <td>[130.08013916015625, 130.09841918945312, 130.1...</td>\n",
       "      <td>33.453053</td>\n",
       "      <td>130.099274</td>\n",
       "      <td>421.111877</td>\n",
       "      <td>1</td>\n",
       "      <td>2022010100011738</td>\n",
       "    </tr>\n",
       "    <tr>\n",
       "      <th>1</th>\n",
       "      <td>[33.340702056884766, 33.32762145996094, 33.332...</td>\n",
       "      <td>[130.1199951171875, 130.1375732421875, 130.158...</td>\n",
       "      <td>33.338490</td>\n",
       "      <td>130.138748</td>\n",
       "      <td>424.939941</td>\n",
       "      <td>1</td>\n",
       "      <td>2022010100011974</td>\n",
       "    </tr>\n",
       "  </tbody>\n",
       "</table>\n",
       "</div>"
      ],
      "text/plain": [
       "                                   Latitude_vertices  \\\n",
       "0  [33.45766067504883, 33.44253921508789, 33.4476...   \n",
       "1  [33.340702056884766, 33.32762145996094, 33.332...   \n",
       "\n",
       "                                  Longitude_vertices   Latitude   Longitude  \\\n",
       "0  [130.08013916015625, 130.09841918945312, 130.1...  33.453053  130.099274   \n",
       "1  [130.1199951171875, 130.1375732421875, 130.158...  33.338490  130.138748   \n",
       "\n",
       "         Xco2  quality_flag          DateTime  \n",
       "0  421.111877             1  2022010100011738  \n",
       "1  424.939941             1  2022010100011974  "
      ]
     },
     "execution_count": 2,
     "metadata": {},
     "output_type": "execute_result"
    }
   ],
   "source": [
    "%%time\n",
    "df_parq= pd.read_parquet(\"oco3_2022_parq.parquet\", engine=\"pyarrow\")\n",
    "df_parq.head(2)"
   ]
  },
  {
   "cell_type": "markdown",
   "id": "0ed9118d",
   "metadata": {},
   "source": [
    "## Quality Flag filtering:"
   ]
  },
  {
   "cell_type": "code",
   "execution_count": 3,
   "id": "641e0bba",
   "metadata": {},
   "outputs": [
    {
     "name": "stdout",
     "output_type": "stream",
     "text": [
      "Wall time: 1.39 s\n"
     ]
    }
   ],
   "source": [
    "%%time\n",
    "df_qual_= df_parq[df_parq[\"quality_flag\"]==0]"
   ]
  },
  {
   "cell_type": "code",
   "execution_count": 4,
   "id": "c4ec16ed",
   "metadata": {},
   "outputs": [
    {
     "data": {
      "text/plain": [
       "(38260867, 17984969)"
      ]
     },
     "execution_count": 4,
     "metadata": {},
     "output_type": "execute_result"
    }
   ],
   "source": [
    "len(df_parq), len(df_qual_)"
   ]
  },
  {
   "cell_type": "markdown",
   "id": "2a9c0d46",
   "metadata": {},
   "source": [
    "# Convert the DATETIME format"
   ]
  },
  {
   "cell_type": "code",
   "execution_count": 5,
   "id": "3b2c7446",
   "metadata": {},
   "outputs": [
    {
     "name": "stdout",
     "output_type": "stream",
     "text": [
      "Wall time: 39.2 s\n"
     ]
    },
    {
     "name": "stderr",
     "output_type": "stream",
     "text": [
      "<timed exec>:1: SettingWithCopyWarning: \n",
      "A value is trying to be set on a copy of a slice from a DataFrame.\n",
      "Try using .loc[row_indexer,col_indexer] = value instead\n",
      "\n",
      "See the caveats in the documentation: https://pandas.pydata.org/pandas-docs/stable/user_guide/indexing.html#returning-a-view-versus-a-copy\n"
     ]
    }
   ],
   "source": [
    "%%time\n",
    "df_qual_[\"DateTime\"]= pd.to_datetime(df_qual_[\"DateTime\"], format=\"%Y%m%d%H%M%S%f\")"
   ]
  },
  {
   "cell_type": "code",
   "execution_count": 6,
   "id": "0f47ee1e",
   "metadata": {},
   "outputs": [
    {
     "data": {
      "text/html": [
       "<div>\n",
       "<style scoped>\n",
       "    .dataframe tbody tr th:only-of-type {\n",
       "        vertical-align: middle;\n",
       "    }\n",
       "\n",
       "    .dataframe tbody tr th {\n",
       "        vertical-align: top;\n",
       "    }\n",
       "\n",
       "    .dataframe thead th {\n",
       "        text-align: right;\n",
       "    }\n",
       "</style>\n",
       "<table border=\"1\" class=\"dataframe\">\n",
       "  <thead>\n",
       "    <tr style=\"text-align: right;\">\n",
       "      <th></th>\n",
       "      <th>Latitude_vertices</th>\n",
       "      <th>Longitude_vertices</th>\n",
       "      <th>Latitude</th>\n",
       "      <th>Longitude</th>\n",
       "      <th>Xco2</th>\n",
       "      <th>quality_flag</th>\n",
       "      <th>DateTime</th>\n",
       "    </tr>\n",
       "  </thead>\n",
       "  <tbody>\n",
       "    <tr>\n",
       "      <th>0</th>\n",
       "      <td>[33.314796447753906, 33.30024337768555, 33.308...</td>\n",
       "      <td>[130.20492553710938, 130.2227783203125, 130.24...</td>\n",
       "      <td>33.311535</td>\n",
       "      <td>130.222916</td>\n",
       "      <td>418.262268</td>\n",
       "      <td>0</td>\n",
       "      <td>2022-01-01 00:01:40.060</td>\n",
       "    </tr>\n",
       "    <tr>\n",
       "      <th>1</th>\n",
       "      <td>[33.27663803100586, 33.262542724609375, 33.270...</td>\n",
       "      <td>[130.16879272460938, 130.1868896484375, 130.20...</td>\n",
       "      <td>33.273293</td>\n",
       "      <td>130.186539</td>\n",
       "      <td>418.319977</td>\n",
       "      <td>0</td>\n",
       "      <td>2022-01-01 00:01:40.330</td>\n",
       "    </tr>\n",
       "    <tr>\n",
       "      <th>2</th>\n",
       "      <td>[33.28447723388672, 33.27030944824219, 33.2781...</td>\n",
       "      <td>[130.1868896484375, 130.2049560546875, 130.222...</td>\n",
       "      <td>33.281330</td>\n",
       "      <td>130.204788</td>\n",
       "      <td>416.698120</td>\n",
       "      <td>0</td>\n",
       "      <td>2022-01-01 00:01:40.340</td>\n",
       "    </tr>\n",
       "    <tr>\n",
       "      <th>3</th>\n",
       "      <td>[33.292598724365234, 33.27840805053711, 33.285...</td>\n",
       "      <td>[130.205322265625, 130.22335815429688, 130.240...</td>\n",
       "      <td>33.289188</td>\n",
       "      <td>130.222794</td>\n",
       "      <td>417.723663</td>\n",
       "      <td>0</td>\n",
       "      <td>2022-01-01 00:01:40.350</td>\n",
       "    </tr>\n",
       "    <tr>\n",
       "      <th>4</th>\n",
       "      <td>[33.30021286010742, 33.28603744506836, 33.2941...</td>\n",
       "      <td>[130.22283935546875, 130.2408447265625, 130.25...</td>\n",
       "      <td>33.297165</td>\n",
       "      <td>130.240952</td>\n",
       "      <td>417.152893</td>\n",
       "      <td>0</td>\n",
       "      <td>2022-01-01 00:01:40.360</td>\n",
       "    </tr>\n",
       "    <tr>\n",
       "      <th>...</th>\n",
       "      <td>...</td>\n",
       "      <td>...</td>\n",
       "      <td>...</td>\n",
       "      <td>...</td>\n",
       "      <td>...</td>\n",
       "      <td>...</td>\n",
       "      <td>...</td>\n",
       "    </tr>\n",
       "    <tr>\n",
       "      <th>17984964</th>\n",
       "      <td>[-4.618454933166504, -4.635359764099121, -4.62...</td>\n",
       "      <td>[168.7618408203125, 168.77386474609375, 168.78...</td>\n",
       "      <td>-4.624123</td>\n",
       "      <td>168.775085</td>\n",
       "      <td>416.166016</td>\n",
       "      <td>0</td>\n",
       "      <td>2022-10-30 23:57:22.020</td>\n",
       "    </tr>\n",
       "    <tr>\n",
       "      <th>17984965</th>\n",
       "      <td>[-4.612674713134766, -4.629579067230225, -4.62...</td>\n",
       "      <td>[168.77703857421875, 168.7890625, 168.80322265...</td>\n",
       "      <td>-4.618398</td>\n",
       "      <td>168.790131</td>\n",
       "      <td>416.159760</td>\n",
       "      <td>0</td>\n",
       "      <td>2022-10-30 23:57:22.030</td>\n",
       "    </tr>\n",
       "    <tr>\n",
       "      <th>17984966</th>\n",
       "      <td>[-4.607049942016602, -4.623953819274902, -4.61...</td>\n",
       "      <td>[168.791748046875, 168.80377197265625, 168.818...</td>\n",
       "      <td>-4.612716</td>\n",
       "      <td>168.804993</td>\n",
       "      <td>416.555115</td>\n",
       "      <td>0</td>\n",
       "      <td>2022-10-30 23:57:22.040</td>\n",
       "    </tr>\n",
       "    <tr>\n",
       "      <th>17984967</th>\n",
       "      <td>[-4.674790859222412, -4.691671371459961, -4.68...</td>\n",
       "      <td>[168.8399658203125, 168.85198974609375, 168.86...</td>\n",
       "      <td>-4.680434</td>\n",
       "      <td>168.853180</td>\n",
       "      <td>416.147766</td>\n",
       "      <td>0</td>\n",
       "      <td>2022-10-30 23:57:23.340</td>\n",
       "    </tr>\n",
       "    <tr>\n",
       "      <th>17984968</th>\n",
       "      <td>[-4.6690216064453125, -4.685910701751709, -4.6...</td>\n",
       "      <td>[168.85498046875, 168.86700439453125, 168.8807...</td>\n",
       "      <td>-4.674842</td>\n",
       "      <td>168.867859</td>\n",
       "      <td>416.539978</td>\n",
       "      <td>0</td>\n",
       "      <td>2022-10-30 23:57:23.350</td>\n",
       "    </tr>\n",
       "  </tbody>\n",
       "</table>\n",
       "<p>17984969 rows × 7 columns</p>\n",
       "</div>"
      ],
      "text/plain": [
       "                                          Latitude_vertices  \\\n",
       "0         [33.314796447753906, 33.30024337768555, 33.308...   \n",
       "1         [33.27663803100586, 33.262542724609375, 33.270...   \n",
       "2         [33.28447723388672, 33.27030944824219, 33.2781...   \n",
       "3         [33.292598724365234, 33.27840805053711, 33.285...   \n",
       "4         [33.30021286010742, 33.28603744506836, 33.2941...   \n",
       "...                                                     ...   \n",
       "17984964  [-4.618454933166504, -4.635359764099121, -4.62...   \n",
       "17984965  [-4.612674713134766, -4.629579067230225, -4.62...   \n",
       "17984966  [-4.607049942016602, -4.623953819274902, -4.61...   \n",
       "17984967  [-4.674790859222412, -4.691671371459961, -4.68...   \n",
       "17984968  [-4.6690216064453125, -4.685910701751709, -4.6...   \n",
       "\n",
       "                                         Longitude_vertices   Latitude  \\\n",
       "0         [130.20492553710938, 130.2227783203125, 130.24...  33.311535   \n",
       "1         [130.16879272460938, 130.1868896484375, 130.20...  33.273293   \n",
       "2         [130.1868896484375, 130.2049560546875, 130.222...  33.281330   \n",
       "3         [130.205322265625, 130.22335815429688, 130.240...  33.289188   \n",
       "4         [130.22283935546875, 130.2408447265625, 130.25...  33.297165   \n",
       "...                                                     ...        ...   \n",
       "17984964  [168.7618408203125, 168.77386474609375, 168.78...  -4.624123   \n",
       "17984965  [168.77703857421875, 168.7890625, 168.80322265...  -4.618398   \n",
       "17984966  [168.791748046875, 168.80377197265625, 168.818...  -4.612716   \n",
       "17984967  [168.8399658203125, 168.85198974609375, 168.86...  -4.680434   \n",
       "17984968  [168.85498046875, 168.86700439453125, 168.8807...  -4.674842   \n",
       "\n",
       "           Longitude        Xco2  quality_flag                DateTime  \n",
       "0         130.222916  418.262268             0 2022-01-01 00:01:40.060  \n",
       "1         130.186539  418.319977             0 2022-01-01 00:01:40.330  \n",
       "2         130.204788  416.698120             0 2022-01-01 00:01:40.340  \n",
       "3         130.222794  417.723663             0 2022-01-01 00:01:40.350  \n",
       "4         130.240952  417.152893             0 2022-01-01 00:01:40.360  \n",
       "...              ...         ...           ...                     ...  \n",
       "17984964  168.775085  416.166016             0 2022-10-30 23:57:22.020  \n",
       "17984965  168.790131  416.159760             0 2022-10-30 23:57:22.030  \n",
       "17984966  168.804993  416.555115             0 2022-10-30 23:57:22.040  \n",
       "17984967  168.853180  416.147766             0 2022-10-30 23:57:23.340  \n",
       "17984968  168.867859  416.539978             0 2022-10-30 23:57:23.350  \n",
       "\n",
       "[17984969 rows x 7 columns]"
      ]
     },
     "execution_count": 6,
     "metadata": {},
     "output_type": "execute_result"
    }
   ],
   "source": [
    "df_qual_= df_qual_.reset_index()\n",
    "df_qual_=df_qual_.drop(columns=[\"index\"])\n",
    "df_qual_"
   ]
  },
  {
   "cell_type": "code",
   "execution_count": 7,
   "id": "f73bea82",
   "metadata": {},
   "outputs": [
    {
     "name": "stdout",
     "output_type": "stream",
     "text": [
      "Wall time: 14.1 s\n"
     ]
    }
   ],
   "source": [
    "%%time\n",
    "df_qual_.to_parquet(\"oco3_2022_parq_dateTime.parquet\", engine=\"pyarrow\")"
   ]
  },
  {
   "cell_type": "code",
   "execution_count": null,
   "id": "a1e4f64a",
   "metadata": {},
   "outputs": [],
   "source": []
  }
 ],
 "metadata": {
  "kernelspec": {
   "display_name": "Python 3 (ipykernel)",
   "language": "python",
   "name": "python3"
  },
  "language_info": {
   "codemirror_mode": {
    "name": "ipython",
    "version": 3
   },
   "file_extension": ".py",
   "mimetype": "text/x-python",
   "name": "python",
   "nbconvert_exporter": "python",
   "pygments_lexer": "ipython3",
   "version": "3.9.13"
  }
 },
 "nbformat": 4,
 "nbformat_minor": 5
}
