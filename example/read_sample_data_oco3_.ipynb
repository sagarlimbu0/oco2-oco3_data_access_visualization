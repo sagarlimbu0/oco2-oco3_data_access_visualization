{
 "cells": [
  {
   "cell_type": "markdown",
   "id": "d812b96b",
   "metadata": {},
   "source": [
    "## Objective:\n",
    "- Example; demo on reading the sampled data on parquet format and visualize\n",
    "- OCO3 file preprocessed into parquet format\n",
    "- Using vertices columns to plot the XOC2 data points on the map"
   ]
  },
  {
   "cell_type": "code",
   "execution_count": 2,
   "id": "6c9005c6",
   "metadata": {},
   "outputs": [],
   "source": [
    "from pyarrow import parquet as parq\n",
    "import pandas as pd\n",
    "import numpy as np"
   ]
  },
  {
   "cell_type": "markdown",
   "id": "3ebda7bf",
   "metadata": {},
   "source": [
    "## READ the file"
   ]
  },
  {
   "cell_type": "code",
   "execution_count": 3,
   "id": "4839ec0f",
   "metadata": {},
   "outputs": [],
   "source": [
    "df_oco3= pd.read_parquet(\"oco3_2022_sample_data.parquet\", engine=\"pyarrow\")"
   ]
  },
  {
   "cell_type": "code",
   "execution_count": null,
   "id": "973e3e15",
   "metadata": {},
   "outputs": [],
   "source": []
  }
 ],
 "metadata": {
  "kernelspec": {
   "display_name": "Python 3 (ipykernel)",
   "language": "python",
   "name": "python3"
  },
  "language_info": {
   "codemirror_mode": {
    "name": "ipython",
    "version": 3
   },
   "file_extension": ".py",
   "mimetype": "text/x-python",
   "name": "python",
   "nbconvert_exporter": "python",
   "pygments_lexer": "ipython3",
   "version": "3.9.13"
  }
 },
 "nbformat": 4,
 "nbformat_minor": 5
}
